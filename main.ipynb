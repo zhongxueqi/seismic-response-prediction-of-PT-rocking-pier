{
 "cells": [
  {
   "cell_type": "code",
   "execution_count": 2,
   "metadata": {},
   "outputs": [
    {
     "name": "stdout",
     "output_type": "stream",
     "text": [
      "* Running on local URL:  http://127.0.0.1:7861\n",
      "\n",
      "To create a public link, set `share=True` in `launch()`.\n"
     ]
    },
    {
     "data": {
      "text/html": [
       "<div><iframe src=\"http://127.0.0.1:7861/\" width=\"100%\" height=\"500\" allow=\"autoplay; camera; microphone; clipboard-read; clipboard-write;\" frameborder=\"0\" allowfullscreen></iframe></div>"
      ],
      "text/plain": [
       "<IPython.core.display.HTML object>"
      ]
     },
     "metadata": {},
     "output_type": "display_data"
    },
    {
     "data": {
      "text/plain": []
     },
     "execution_count": 2,
     "metadata": {},
     "output_type": "execute_result"
    },
    {
     "name": "stderr",
     "output_type": "stream",
     "text": [
      "c:\\Program Files\\Python312\\Lib\\site-packages\\sklearn\\base.py:493: UserWarning: X does not have valid feature names, but StandardScaler was fitted with feature names\n",
      "  warnings.warn(\n"
     ]
    }
   ],
   "source": [
    "import pandas as pd  # Import the pandas library for data manipulation and analysis\n",
    "import numpy as np  # Import the NumPy library for numerical operations\n",
    "import xgboost as xgb  # Import the XGBoost library for gradient boosting machine learning models\n",
    "import gradio as gr  # Import the Gradio library for creating user interfaces\n",
    "from sklearn.preprocessing import StandardScaler  # Import the StandardScaler for data normalization\n",
    "import joblib  # Import joblib for loading and saving machine learning models\n",
    "\n",
    "# Load the shear force prediction model\n",
    "shear_model = xgb.XGBRegressor()  # Initialize an XGBoost regression model for shear force\n",
    "shear_model.load_model(\"xgboost_shear.json\")  # Load the pre-trained model from the specified JSON file\n",
    "\n",
    "# Load the drift prediction model\n",
    "drift_model = xgb.XGBRegressor()  # Initialize an XGBoost regression model for drift\n",
    "drift_model.load_model(\"xgboost_drift.json\")  # Load the pre-trained model from the specified JSON file\n",
    "\n",
    "# Load the scaler\n",
    "scaler = joblib.load('scaler.joblib')  # Load the pre-fitted StandardScaler from the specified file\n",
    "\n",
    "# Define the prediction function\n",
    "def predict(D, H_D, Ad, Ap, G, PT, fc, PGA, CAV, PGV, CAD, PGD, Drms, SD, VA):\n",
    "    # Create a 2D NumPy array with the input parameters for the model\n",
    "    input_data = np.array([[D, H_D, Ad, Ap, G, PT, fc, PGA, CAV, PGV, CAD, PGD, Drms, SD, VA]])\n",
    "    \n",
    "    # Scale the input data using the previously defined scaler\n",
    "    input_scaled = scaler.transform(input_data)  # Normalize input data to the model's training scale\n",
    "    \n",
    "    # Predict shear force using the shear model\n",
    "    pred_shear = shear_model.predict(input_scaled)  # Get the prediction for shear force\n",
    "    shear = pred_shear[0]  # Extract the predicted shear force from the prediction array\n",
    "    \n",
    "    # Predict drift using the drift model\n",
    "    pred_drift = drift_model.predict(input_scaled)  # Get the prediction for drift\n",
    "    drift = pred_drift[0]  # Extract the predicted drift from the prediction array\n",
    "    \n",
    "    # Return both predictions\n",
    "    return shear, drift  # Return the predicted shear and drift values\n",
    "\n",
    "# Create a Gradio interface for user interaction\n",
    "iface = gr.Interface(\n",
    "    fn=predict,  # Specify the function to call for predictions\n",
    "    inputs=[\n",
    "        gr.Number(label=\"Diameter (m)\", value=2.1),  # Input for diameter in meters with a default value\n",
    "        gr.Number(label=\"Aspect ratio\", value=4.5),  # Input for aspect ratio with a default value\n",
    "        gr.Number(label=\"Longitudinal reinforcing steel ratio (%)\", value=0.001530745),  # Input for steel ratio\n",
    "        gr.Number(label=\"PT steel ratio (%)\", value=0.005509084),  # Input for post-tensioned steel ratio\n",
    "        gr.Number(label=\"Gravity load ratio (%)\", value=0.058750712),  # Input for gravity load ratio\n",
    "        gr.Number(label=\"Initial PT force ratio (%)\", value=0.076873839),  # Input for initial PT force ratio\n",
    "        gr.Number(label=\"Concrete cover compressive strength (kPa)\", value=26769),  # Input for concrete strength\n",
    "        gr.Number(label=\"PGA (g)\", value=0.386808),  # Input for peak ground acceleration\n",
    "        gr.Number(label=\"CAV (cm/s)\", value=1232.5763),  # Input for cumulative absolute velocity\n",
    "        gr.Number(label=\"PGV (cm/s)\", value=37.143572),  # Input for peak ground velocity\n",
    "        gr.Number(label=\"CAD (cm)\", value=127.36346),  # Input for cumulative absolute displacement\n",
    "        gr.Number(label=\"PGD (cm)\", value=4.3132972),  # Input for permanent ground displacement\n",
    "        gr.Number(label=\"Drms (cm)\", value=2.0829409),  # Input for root mean square displacement\n",
    "        gr.Number(label=\"SD (s)\", value=9.1),  # Input for duration of shaking\n",
    "        gr.Number(label=\"V/A\", value=0.097985574)  # Input for the ratio of velocity to acceleration\n",
    "    ],\n",
    "    outputs=[\n",
    "        gr.Number(label=\"Shear (kN)\"),  # Output field for shear force prediction\n",
    "        gr.Number(label=\"Drift (%)\")  # Output field for drift prediction\n",
    "    ],\n",
    "    title=\"Seismic Response Prediction\",  # Title of the Gradio interface\n",
    "    description=\"Input parameters for seismic response prediction.\"  # Description of what the interface does\n",
    ")\n",
    "\n",
    "# Launch the Gradio interface for user interaction\n",
    "iface.launch()  # Start the web application to allow users to input parameters and get predictions"
   ]
  }
 ],
 "metadata": {
  "kernelspec": {
   "display_name": "Python 3",
   "language": "python",
   "name": "python3"
  },
  "language_info": {
   "codemirror_mode": {
    "name": "ipython",
    "version": 3
   },
   "file_extension": ".py",
   "mimetype": "text/x-python",
   "name": "python",
   "nbconvert_exporter": "python",
   "pygments_lexer": "ipython3",
   "version": "3.12.4"
  }
 },
 "nbformat": 4,
 "nbformat_minor": 2
}
